{
 "cells": [
  {
   "cell_type": "code",
   "execution_count": null,
   "metadata": {},
   "outputs": [],
   "source": [
    "def open_html(file_name, payload=None):\n",
    "    if payload == None:\n",
    "        file_content = requests.get(file_name).text\n",
    "    else:\n",
    "        file_content = requests.post(file_name, data=payload).text\n",
    "    return BS(file_content, 'lxml', multi_valued_attributes=None)"
   ]
  },
  {
   "cell_type": "code",
   "execution_count": null,
   "metadata": {},
   "outputs": [],
   "source": [
    "payload = {\n",
    "    'data' : city,\n",
    "    'Suchen' : 'Jobs+finden'\n",
    "}\n",
    "content = open_html('https://www.kultweet.de/jobs.php', payload)\n",
    "jobs = content.find_all('li', class_=re.compile('row'))\n",
    "for job in jobs:\n",
    "    print(job)"
   ]
  },
  {
   "cell_type": "code",
   "execution_count": null,
   "metadata": {},
   "outputs": [],
   "source": [
    "import requests\n",
    "from bs4 import BeautifulSoup as BS\n",
    "import re"
   ]
  },
  {
   "cell_type": "code",
   "execution_count": null,
   "metadata": {},
   "outputs": [],
   "source": [
    "payload = {\n",
    "    'data': 'Köln',\n",
    "    'Suchen': 'Jobs+finden'\n",
    "}\n",
    "\n",
    "content = requests.post('https://www.kultweet.de/jobs.php', data=payload)\n",
    "content.encoding = content.apparent_encoding\n",
    "content = BS(content.text, 'lxml', multi_valued_attributes=None)"
   ]
  },
  {
   "cell_type": "code",
   "execution_count": null,
   "metadata": {},
   "outputs": [],
   "source": [
    "jobs = content.find_all('li', class_=re.compile('row'))"
   ]
  },
  {
   "cell_type": "code",
   "execution_count": null,
   "metadata": {},
   "outputs": [],
   "source": [
    "for job in jobs:\n",
    "    print(job.a.text.lstrip())\n"
   ]
  },
  {
   "cell_type": "code",
   "execution_count": null,
   "metadata": {},
   "outputs": [],
   "source": [
    "content.encoding = content.apparent_encoding"
   ]
  },
  {
   "cell_type": "code",
   "execution_count": null,
   "metadata": {},
   "outputs": [],
   "source": [
    "content.text"
   ]
  },
  {
   "cell_type": "code",
   "execution_count": null,
   "metadata": {},
   "outputs": [],
   "source": [
    "import requests"
   ]
  },
  {
   "cell_type": "code",
   "execution_count": null,
   "metadata": {},
   "outputs": [],
   "source": [
    "payload = {'s': 'Köln'}\n",
    "\n",
    "r = requests.get('https://jobforum-kultur.eu/', payload)\n",
    "\n",
    "print(r.url)"
   ]
  },
  {
   "cell_type": "code",
   "execution_count": null,
   "metadata": {},
   "outputs": [],
   "source": [
    "payload = {\n",
    "    'search': None,\n",
    "    'search_type': None,\n",
    "    'places': 'Köln',\n",
    "    'distance': '10',\n",
    "    'places_type': None,\n",
    "    'countrycode': None,\n",
    "    'state': None,\n",
    "    'latlng': None,\n",
    "    'num': '100'\n",
    "}\n",
    "content = requests.get('https://goodjobs.eu/jobs', payload)\n",
    "content.encoding = content.apparent_encoding\n",
    "content = BS(content.text, 'lxml', multi_valued_attributes=None)"
   ]
  },
  {
   "cell_type": "code",
   "execution_count": null,
   "metadata": {},
   "outputs": [],
   "source": [
    "def div_has_a(tag):\n",
    "    return tag.has_attr('class_')"
   ]
  },
  {
   "cell_type": "code",
   "execution_count": null,
   "metadata": {},
   "outputs": [],
   "source": [
    "content.find_all(s)"
   ]
  },
  {
   "cell_type": "code",
   "execution_count": null,
   "metadata": {},
   "outputs": [],
   "source": [
    "\n",
    "\n",
    "jobs = content.find_all('div', class_=re.compile('col-span-full'))"
   ]
  },
  {
   "cell_type": "code",
   "execution_count": null,
   "metadata": {},
   "outputs": [],
   "source": [
    "for job in jobs:\n",
    "    if not job.find('a'):\n",
    "        print('Yes')\n",
    "        print(job)"
   ]
  },
  {
   "cell_type": "code",
   "execution_count": null,
   "metadata": {},
   "outputs": [],
   "source": [
    "for job in jobs:\n",
    "    tags = job.find_all('div', class_='box')\n",
    "    for tag in tags:\n",
    "        tag.decompose()\n",
    "    tags = job.find_all('p', class_='text-queen-100 text-responsive-xxs text-style-body whitespace-nowrap')\n",
    "    for tag in tags:\n",
    "        tag.decompose()\n",
    "    tags = job.find_all('p', class_='text-queen-100 text-responsive-xxs text-style-headline')\n",
    "    for tag in tags:\n",
    "        tag.decompose()"
   ]
  },
  {
   "cell_type": "code",
   "execution_count": 19,
   "metadata": {},
   "outputs": [],
   "source": [
    "import webbrowser\n",
    "import os"
   ]
  },
  {
   "cell_type": "code",
   "execution_count": 44,
   "metadata": {},
   "outputs": [
    {
     "data": {
      "text/plain": [
       "True"
      ]
     },
     "execution_count": 44,
     "metadata": {},
     "output_type": "execute_result"
    }
   ],
   "source": [
    "# webbrowser.open('http//:www.google.com')\n",
    "# client = webbrowser.get(\"open -a /Applications/Firefox.app %s\")\n",
    "# client = webbrowser.get()\n",
    "# client.open('results/jobs_Köln.html')\n",
    "\n",
    "# client = webbrowser.get()\n",
    "# client.namew\n",
    "webbrowser.open('file://' + os.getcwd() + '/results/jobs_Köln.html')\n",
    "\n",
    "    \n",
    "# os.getcwd()\n",
    "# client.open('results/jobs_Köln.html', new=0)\n",
    "# webbrowser.open('results/Jons_költ.html')\n"
   ]
  },
  {
   "cell_type": "code",
   "execution_count": 45,
   "metadata": {},
   "outputs": [],
   "source": [
    "import glob"
   ]
  },
  {
   "cell_type": "code",
   "execution_count": 70,
   "metadata": {},
   "outputs": [],
   "source": [
    "file_list = glob.glob('results/jobs_*.html')"
   ]
  },
  {
   "cell_type": "code",
   "execution_count": 71,
   "metadata": {},
   "outputs": [],
   "source": [
    "last_file = max(file_list, key=os.path.getctime)"
   ]
  },
  {
   "cell_type": "code",
   "execution_count": 77,
   "metadata": {},
   "outputs": [
    {
     "data": {
      "text/plain": [
       "54.18530701798677"
      ]
     },
     "execution_count": 77,
     "metadata": {},
     "output_type": "execute_result"
    }
   ],
   "source": [
    "os.path.getmtime(last_file) / 60 / 60 / 24 / 365"
   ]
  }
 ],
 "metadata": {
  "kernelspec": {
   "display_name": "Python 3",
   "language": "python",
   "name": "python3"
  },
  "language_info": {
   "codemirror_mode": {
    "name": "ipython",
    "version": 3
   },
   "file_extension": ".py",
   "mimetype": "text/x-python",
   "name": "python",
   "nbconvert_exporter": "python",
   "pygments_lexer": "ipython3",
   "version": "3.11.2"
  }
 },
 "nbformat": 4,
 "nbformat_minor": 2
}
