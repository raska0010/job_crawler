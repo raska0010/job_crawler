{
 "cells": [
  {
   "cell_type": "code",
   "execution_count": 20,
   "metadata": {},
   "outputs": [],
   "source": [
    "import requests\n",
    "from bs4 import BeautifulSoup as BS"
   ]
  },
  {
   "cell_type": "code",
   "execution_count": 21,
   "metadata": {},
   "outputs": [],
   "source": [
    "def test_web_connection (url, timeout=10):\n",
    "    try:\n",
    "        requests.get(url, timeout=timeout)\n",
    "        return True\n",
    "    except requests.exceptions.RequestException as e:\n",
    "        print(f'Error {e}')\n",
    "        print(f'Skipping {url}')\n",
    "        return False"
   ]
  },
  {
   "cell_type": "code",
   "execution_count": 31,
   "metadata": {},
   "outputs": [],
   "source": [
    "def open_html(url, method, payload=None):\n",
    "    if not test_web_connection(url):\n",
    "        return\n",
    "\n",
    "    if method == 'get':\n",
    "        result = requests.get(url, params=payload)\n",
    "    if method == 'post':\n",
    "        result = requests.post(url, data=payload)\n",
    "    result.encoding = result.apparent_encoding  #  The apparent encoding, provided by the charset_normalizer or chardet libraries.\n",
    "    return BS(result.text, 'lxml', multi_valued_attributes=None)"
   ]
  }
 ],
 "metadata": {
  "kernelspec": {
   "display_name": "Python 3",
   "language": "python",
   "name": "python3"
  },
  "language_info": {
   "codemirror_mode": {
    "name": "ipython",
    "version": 3
   },
   "file_extension": ".py",
   "mimetype": "text/x-python",
   "name": "python",
   "nbconvert_exporter": "python",
   "pygments_lexer": "ipython3",
   "version": "3.11.2"
  }
 },
 "nbformat": 4,
 "nbformat_minor": 2
}
